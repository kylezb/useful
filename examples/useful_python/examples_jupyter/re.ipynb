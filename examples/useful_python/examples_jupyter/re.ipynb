{
 "cells": [
  {
   "cell_type": "code",
   "execution_count": 3,
   "metadata": {
    "collapsed": true
   },
   "outputs": [
    {
     "data": {
      "text/plain": [
       "'\\n一些通用说明\\n.* 匹配任意字符 除换行符外 如果.需要匹配换行符 需要设置re.S模式\\n.*? 非贪婪模式\\n\\nre.S 匹配换行符\\nre.I 忽略大小写\\n\\n遇到匹配特殊字符要用\\\\转义\\n'"
      ]
     },
     "execution_count": 3,
     "metadata": {},
     "output_type": "execute_result"
    }
   ],
   "source": [
    "import re\n",
    "\"\"\"\n",
    "一些通用说明\n",
    ".* 匹配任意字符 除换行符外 如果.需要匹配换行符 需要设置re.S模式\n",
    "限制符后跟? 非贪婪模式\n",
    "\n",
    "re.S 匹配换行符\n",
    "re.I 忽略大小写\n",
    "\n",
    "遇到匹配特殊字符要用\\转义\n",
    "\"\"\""
   ]
  },
  {
   "cell_type": "code",
   "execution_count": null,
   "metadata": {},
   "outputs": [
    {
     "name": "stdout",
     "output_type": "stream",
     "text": [
      "匹配对象 <_sre.SRE_Match object; span=(0, 6), match='wo shi'>\n匹配字符:  wo shi\n匹配字符串位置:  (0, 6)\n匹配字符:  puguiyu\n"
     ]
    }
   ],
   "source": [
    "# match\n",
    "# 从字符串开始匹配\n",
    "content = 'wo shi puguiyu'\n",
    "r = re.match('wo shi', content)\n",
    "print('匹配对象', r)\n",
    "print('匹配字符: ', r.group())\n",
    "print('匹配字符串位置: ', r.span()) \n",
    "\n",
    "# 用括号进行分组 用group进行结果打印，参数0表明全部结果，1表明第一个括号\n",
    "r = re.match('wo (.*) (.*)', content)\n",
    "print('匹配字符: ', r.group(2))\n"
   ]
  },
  {
   "cell_type": "code",
   "execution_count": 53,
   "metadata": {},
   "outputs": [
    {
     "name": "stdout",
     "output_type": "stream",
     "text": [
      "<_sre.SRE_Match object; span=(3, 6), match='123'>\n匹配结果:  123\n"
     ]
    }
   ],
   "source": [
    "# search\n",
    "# 在字符串中返回匹配的第一个结果\n",
    "content = 'pu 123 gui 456 yu 789'\n",
    "r = re.search(r'(\\d+)', content)\n",
    "print(r)\n",
    "print('匹配结果: ', r.group())"
   ]
  },
  {
   "cell_type": "code",
   "execution_count": 60,
   "metadata": {},
   "outputs": [
    {
     "name": "stdout",
     "output_type": "stream",
     "text": [
      "['123', '456', '789']\n"
     ]
    }
   ],
   "source": [
    "# findall\n",
    "# 匹配字符串的所用内容\n",
    "content = 'pu 123 gui 456 yu 789'\n",
    "r = re.findall(r'(\\d+)', content)\n",
    "# r 这时候返回的是一个匹配列表，可用循环遍历\n",
    "print(r)"
   ]
  },
  {
   "cell_type": "code",
   "execution_count": 3,
   "metadata": {},
   "outputs": [
    {
     "name": "stdout",
     "output_type": "stream",
     "text": [
      "pu  gui  yu \n_________\n"
     ]
    }
   ],
   "source": [
    "# sub \n",
    "# 利用正则修改字符串\n",
    "import re\n",
    "content = 'pu 123 gui 456 yu 789'\n",
    "r = re.sub(r'(\\d+)', '', content)\n",
    "print(r)\n",
    "\n",
    "content = '*\\:?\"|/<>'\n",
    "# 将非法文件命名字符修改\n",
    "r = re.sub(r'\\*|\\\\|:|\\?|\"|\\||\\<|\\>|\\/', '_', content)\n",
    "print(r)"
   ]
  },
  {
   "cell_type": "code",
   "execution_count": 6,
   "metadata": {},
   "outputs": [
    {
     "name": "stdout",
     "output_type": "stream",
     "text": [
      "pu  gui  yu \npu  gui  yu \n"
     ]
    }
   ],
   "source": [
    "# compile\n",
    "# 将正则表达式转换成一个对象，进行后续处理\n",
    "content = 'pu 123 gui 456 yu 789'\n",
    "pattern = re.compile(r'(\\d+)')\n",
    "# 直接用pattern进行处理\n",
    "r = pattern.sub('', content)\n",
    "print(r)\n",
    "r = re.sub(pattern, '', content)\n",
    "print(r)\n",
    "\n"
   ]
  },
  {
   "cell_type": "code",
   "execution_count": 6,
   "metadata": {
    "collapsed": false,
    "pycharm": {
     "is_executing": false
    }
   },
   "outputs": [
    {
     "name": "stdout",
     "text": [
      "['mrdqy8ojgkiuppz']\n",
      "['/v.qq.com/detail/m/mrdqy8ojgkiuppz']\n"
     ],
     "output_type": "stream"
    }
   ],
   "source": [
    "# 贪婪匹配和非贪婪匹配\n",
    "\n",
    "import re\n",
    "\n",
    "text = \"https://v.qq.com/detail/m/mrdqy8ojgkiuppz.html\"\n",
    "# 贪婪匹配，尽可能的匹配字符/前的内容\n",
    "pattern = re.compile(r\".*/(.*).html\")\n",
    "a = pattern.findall(text)\n",
    "print(a)\n",
    "# 非贪婪匹配，尽可能的匹配字符/前的内容\n",
    "pattern = re.compile(r\".*?/(.*).html\")\n",
    "a = pattern.findall(text)\n",
    "print(a)\n",
    "\n"
   ]
  },
  {
   "cell_type": "code",
   "execution_count": 4,
   "metadata": {
    "pycharm": {
     "is_executing": false,
     "name": "#%%\n"
    }
   },
   "outputs": [
    {
     "name": "stdout",
     "text": [
      "['11&11']\n",
      "['dsfd']\n"
     ],
     "output_type": "stream"
    }
   ],
   "source": [
    "import re\n",
    "\n",
    "pattern = re.compile(r\"/([^/.]+)/\")\n",
    "\n",
    "text = \"/11&11///\"\n",
    "\n",
    "a = pattern.findall(text)\n",
    "\n",
    "print(a)\n",
    "\n",
    "\n",
    "pattern = re.compile(r\"/([^.]+)/\")\n",
    "\n",
    "text = \"/dsfd/\"\n",
    "\n",
    "a = pattern.findall(text)\n",
    "\n",
    "print(a)\n",
    "\n",
    "\n"
   ]
  },
  {
   "cell_type": "code",
   "execution_count": 49,
   "outputs": [
    {
     "name": "stdout",
     "text": [
      "<re.Match object; span=(3, 9), match='999999'>\n"
     ],
     "output_type": "stream"
    }
   ],
   "source": [
    "# 匹配连续相同的字符,使用\\1配合小括号然后加\n",
    "# \\num 为分组的引用，第一个括号就是\\1，第二个括号就是\\2\n",
    "\n",
    "import re\n",
    "pattern = re.compile(r'(\\d)\\1{5,}')\n",
    "text = '134999999'\n",
    "ret = pattern.search(text)\n",
    "print(ret)\n"
   ],
   "metadata": {
    "collapsed": false,
    "pycharm": {
     "name": "#%%\n",
     "is_executing": false
    }
   }
  },
  {
   "cell_type": "code",
   "execution_count": 3,
   "outputs": [
    {
     "name": "stdout",
     "text": [
      "ok\n"
     ],
     "output_type": "stream"
    }
   ],
   "source": [
    "# 常用正则\n",
    "\n",
    "import re\n",
    "\n",
    "# 去掉html标签\n",
    "content = '<div>ok</div><div/>'\n",
    "remove_tag = re.compile(r'</?.+?/?>')\n",
    "content = remove_tag.sub(\"\", content)\n",
    "print(content)\n",
    "\n",
    "\n",
    "\n",
    "\n"
   ],
   "metadata": {
    "collapsed": false,
    "pycharm": {
     "name": "#%%\n",
     "is_executing": false
    }
   }
  }
 ],
 "metadata": {
  "kernelspec": {
   "name": "python3",
   "language": "python",
   "display_name": "Python 3"
  },
  "language_info": {
   "codemirror_mode": {
    "name": "ipython",
    "version": 2
   },
   "file_extension": ".py",
   "mimetype": "text/x-python",
   "name": "python",
   "nbconvert_exporter": "python",
   "pygments_lexer": "ipython2",
   "version": "2.7.6"
  },
  "pycharm": {
   "stem_cell": {
    "cell_type": "raw",
    "source": [],
    "metadata": {
     "collapsed": false
    }
   }
  }
 },
 "nbformat": 4,
 "nbformat_minor": 0
}