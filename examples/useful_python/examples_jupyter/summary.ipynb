{
 "cells": [
  {
   "cell_type": "code",
   "execution_count": 2,
   "metadata": {
    "collapsed": true
   },
   "outputs": [
    {
     "name": "stdout",
     "output_type": "stream",
     "text": [
      "{1: 55, 2: 87, 3: 80, 4: 72, 5: 86, 6: 98, 7: 63, 8: 71, 9: 67}\n{6: 98}\n"
     ]
    }
   ],
   "source": [
    "# 字典推导式\n",
    "from collections import OrderedDict\n",
    "from random import randint\n",
    "\n",
    "d = {x:randint(50, 100) for x in range(1,10)}\n",
    "print(d)\n",
    "# 选出值为80以上的数据\n",
    "r = {k:v for k, v in d.items() if v > 90}\n",
    "print(r)\n"
   ]
  },
  {
   "cell_type": "code",
   "execution_count": 4,
   "metadata": {},
   "outputs": [
    {
     "name": "stdout",
     "output_type": "stream",
     "text": [
      "{1: 'a', 2: 'b', 3: 'c'}\n"
     ]
    }
   ],
   "source": [
    "# 对字典k v进行翻转\n",
    "a = {\"a\":1, \"b\":2, \"c\":3}\n",
    "d = {k:v for k, v in zip(a.values(), a.keys())}\n",
    "print(d)"
   ]
  },
  {
   "cell_type": "code",
   "execution_count": 23,
   "metadata": {},
   "outputs": [
    {
     "name": "stdout",
     "output_type": "stream",
     "text": [
      "{1: 91, 2: 75, 3: 55, 4: 69, 5: 0, 6: 24, 7: 78, 8: 31, 9: 80, 10: 4, 11: 50, 12: 8, 13: 38, 14: 50, 15: 86, 16: 24, 17: 39, 18: 28, 19: 16, 20: 22, 21: 96, 22: 82, 23: 0, 24: 56, 25: 51, 26: 7, 27: 15, 28: 18, 29: 46, 30: 33, 31: 99, 32: 52, 33: 87, 34: 71, 35: 95, 36: 94, 37: 43, 38: 49, 39: 97, 40: 88, 41: 36, 42: 63, 43: 18, 44: 11, 45: 54, 46: 97, 47: 54, 48: 70, 49: 90, 50: 80, 51: 68, 52: 19, 53: 78, 54: 54, 55: 87, 56: 51, 57: 77, 58: 7, 59: 36, 60: 71, 61: 19, 62: 90, 63: 78, 64: 39, 65: 45, 66: 31, 67: 54, 68: 82, 69: 39, 70: 75, 71: 40, 72: 86, 73: 8, 74: 8, 75: 54, 76: 10, 77: 64, 78: 22, 79: 44, 80: 1, 81: 5, 82: 49, 83: 31, 84: 54, 85: 91, 86: 39, 87: 2, 88: 85, 89: 79, 90: 89, 91: 68, 92: 72, 93: 4, 94: 79, 95: 16, 96: 60, 97: 89, 98: 65, 99: 8}\n{5: 0, 23: 0, 80: 1, 87: 2, 10: 4, 93: 4, 81: 5, 26: 7, 58: 7, 12: 8, 73: 8, 74: 8, 99: 8, 76: 10, 44: 11, 27: 15, 19: 16, 95: 16, 28: 18, 43: 18, 52: 19, 61: 19, 20: 22, 78: 22, 6: 24, 16: 24, 18: 28, 8: 31, 66: 31, 83: 31, 30: 33, 41: 36, 59: 36, 13: 38, 17: 39, 64: 39, 69: 39, 86: 39, 71: 40, 37: 43, 79: 44, 65: 45, 29: 46, 38: 49, 82: 49, 11: 50, 14: 50, 25: 51, 56: 51, 32: 52, 45: 54, 47: 54, 54: 54, 67: 54, 75: 54, 84: 54, 3: 55, 24: 56, 96: 60, 42: 63, 77: 64, 98: 65, 51: 68, 91: 68, 4: 69, 48: 70, 34: 71, 60: 71, 92: 72, 2: 75, 70: 75, 57: 77, 7: 78, 53: 78, 63: 78, 89: 79, 94: 79, 9: 80, 50: 80, 22: 82, 68: 82, 88: 85, 15: 86, 72: 86, 33: 87, 55: 87, 40: 88, 90: 89, 97: 89, 49: 90, 62: 90, 1: 91, 85: 91, 36: 94, 35: 95, 21: 96, 39: 97, 46: 97, 31: 99}\n"
     ]
    }
   ],
   "source": [
    "# 对字典中的值进行排序\n",
    "# 在python3.7中字典的输出顺序就是生成顺序,其他版本未测试\n",
    "import operator\n",
    "from random import randint\n",
    "\n",
    "dics = {x:randint(0, 99) for x in range(1, 100)}\n",
    "print(dics)\n",
    "\n",
    "a = sorted(dics.items(), key=operator.itemgetter(1))\n",
    "\n",
    "b = sorted(dics.items(), key=lambda x: x[1])\n",
    "\n",
    "value_order_dic = {k:v for k, v in b}\n",
    "print(value_order_dic)\n"
   ]
  },
  {
   "cell_type": "code",
   "execution_count": 3,
   "outputs": [
    {
     "name": "stdout",
     "text": [
      "{1, 2, 3, 4, 5}\n",
      "[2, 1, 3, 4, 5]\n"
     ],
     "output_type": "stream"
    }
   ],
   "source": [
    "# 对数组进行去重\n",
    "from collections import OrderedDict\n",
    "# 对数组进行去重\n",
    "a = [2,1,3,3,4,5,5,4,3,2,1]\n",
    "# 排序后\n",
    "b = set(a)\n",
    "print(b)\n",
    "\n",
    "# 保持原有顺序\n",
    "b = list(OrderedDict.fromkeys(a))\n",
    "print(b)\n"
   ],
   "metadata": {
    "collapsed": false,
    "pycharm": {
     "name": "#%%\n",
     "is_executing": false
    }
   }
  },
  {
   "cell_type": "code",
   "execution_count": 6,
   "outputs": [
    {
     "name": "stdout",
     "text": [
      "{1, 4}\n"
     ],
     "output_type": "stream"
    }
   ],
   "source": [
    "# set操作\n",
    "a = [1,2,3]\n",
    "b = [2,3,4]\n",
    "# 取相同元素\n",
    "print(set(a)&set(b))\n",
    "# 取不同元素\n",
    "print(set(a)^set(b))\n",
    "\n",
    "\n",
    "\n"
   ],
   "metadata": {
    "collapsed": false,
    "pycharm": {
     "name": "#%%\n",
     "is_executing": false
    }
   }
  },
  {
   "cell_type": "code",
   "execution_count": null,
   "outputs": [],
   "source": [
    "\n"
   ],
   "metadata": {
    "collapsed": false,
    "pycharm": {
     "name": "#%%\n"
    }
   }
  }
 ],
 "metadata": {
  "kernelspec": {
   "name": "python3",
   "language": "python",
   "display_name": "Python 3"
  },
  "language_info": {
   "codemirror_mode": {
    "name": "ipython",
    "version": 2
   },
   "file_extension": ".py",
   "mimetype": "text/x-python",
   "name": "python",
   "nbconvert_exporter": "python",
   "pygments_lexer": "ipython2",
   "version": "2.7.6"
  },
  "pycharm": {
   "stem_cell": {
    "cell_type": "raw",
    "source": [],
    "metadata": {
     "collapsed": false
    }
   }
  }
 },
 "nbformat": 4,
 "nbformat_minor": 0
}