{
 "cells": [
  {
   "cell_type": "code",
   "execution_count": 9,
   "metadata": {
    "collapsed": true,
    "pycharm": {
     "is_executing": false
    }
   },
   "outputs": [],
   "source": [
    "from pymongo import MongoClient\n",
    "import configparser\n",
    "# 读取配置文件，连接mongo。mongo连接地址可自行更改，不提供个人配置。\n",
    "cf = configparser.RawConfigParser()\n",
    "cf.read(\"private_setting.cfg\") \n",
    "MONGODB_URI = cf.get(\"mongo\", \"MONGODB_URI\")\n",
    "# MONGODB_URI2 = MONGODB_URI.replace(\"$\", \"%40\")\n",
    "\n",
    "# print(MONGODB_URI == MONGODB_URI2)\n",
    "# print(MONGODB_URI)\n",
    "# print(MONGODB_URI2)\n",
    "\n",
    "MONGODB_DB = cf.get(\"mongo\", \"MONGODB_DB\")\n",
    "MONGODB_COLLECTION = \"products\"\n",
    "# 连接创建一个数据库和一个集合\n",
    "client = MongoClient(MONGODB_URI)\n",
    "db = client[MONGODB_DB]\n",
    "col = db[MONGODB_COLLECTION]\n"
   ]
  },
  {
   "cell_type": "code",
   "execution_count": 10,
   "metadata": {
    "collapsed": true,
    "pycharm": {
     "is_executing": false
    }
   },
   "outputs": [
    {
     "name": "stdout",
     "text": [
      "{'_id': 1.0, 'ok': 20}\n",
      "{'_id': 2.0, 'dasdf': 'dfdf', 'ok': 20, 'ddd': 'ddd'}\n"
     ],
     "output_type": "stream"
    }
   ],
   "source": [
    "# 遍历一级集合\n",
    "infos = col.find().batch_size(100)\n",
    "for i in infos:\n",
    "    print(i)\n",
    "            "
   ]
  },
  {
   "cell_type": "code",
   "execution_count": 27,
   "metadata": {
    "pycharm": {
     "is_executing": false
    }
   },
   "outputs": [
    {
     "name": "stdout",
     "text": [
      "<pymongo.results.UpdateResult object at 0x06C7DB20>\n"
     ],
     "output_type": "stream"
    }
   ],
   "source": [
    "\n",
    "# 更新操作\n",
    "query_builder = {\"_id\":2.0}\n",
    "update_builder = {'$set': {\"ddd\":\"ddd\"}, \"$setOnInsert\": {\"ok\":20, \"dasdf\":'dfdf'}}\n",
    "\n",
    "ret = col.update_one(query_builder, update_builder, upsert=True)\n",
    "print(ret)\n",
    "\n",
    "\n"
   ]
  },
  {
   "cell_type": "code",
   "execution_count": null,
   "outputs": [],
   "source": [
    "# 聚合操作\n",
    "\n"
   ],
   "metadata": {
    "collapsed": false,
    "pycharm": {
     "name": "#%%\n"
    }
   }
  }
 ],
 "metadata": {
  "kernelspec": {
   "name": "pycharm-4f3951bc",
   "language": "python",
   "display_name": "PyCharm (useful)"
  },
  "language_info": {
   "codemirror_mode": {
    "name": "ipython",
    "version": 2
   },
   "file_extension": ".py",
   "mimetype": "text/x-python",
   "name": "python",
   "nbconvert_exporter": "python",
   "pygments_lexer": "ipython2",
   "version": "2.7.6"
  },
  "pycharm": {
   "stem_cell": {
    "cell_type": "raw",
    "source": [],
    "metadata": {
     "collapsed": false
    }
   }
  }
 },
 "nbformat": 4,
 "nbformat_minor": 0
}