{
 "cells": [
  {
   "cell_type": "heading",
   "metadata": {
    "collapsed": true
   },
   "level": 1,
   "source": [
    "\n",
    "\n",
    "\n",
    "\n"
   ]
  },
  {
   "cell_type": "code",
   "execution_count": null,
   "metadata": {
    "collapsed": true
   },
   "outputs": [
    {
     "name": "stdout",
     "output_type": "stream",
     "text": [
      "attachment; filename=\"Win10%E7%B3%BB%E7%BB%9F%E7%89%88%E6%9C%AC%E7%9A%84%E5%8C%BA%E5%88%AB.docx\"; filename*=utf-8''Win10%E7%B3%BB%E7%BB%9F%E7%89%88%E6%9C%AC%E7%9A%84%E5%8C%BA%E5%88%AB.docx\nWin10系统版本的区别.docx\n"
     ]
    }
   ],
   "source": [
    "\n",
    "# requests下载文件，获取文件名，并保存。以下载百度文库举例\n",
    "from urllib.parse import unquote\n",
    "\n",
    "import requests\n",
    "import re\n",
    "url = \"https://wkbjcloudbos.bdimg.com/v1/wenku283//568db60f54bdbeb5813f3c5b6815cd43?responseContentDisposition=attachment%3B%20filename%3D%22Win10%25E7%25B3%25BB%25E7%25BB%259F%25E7%2589%2588%25E6%259C%25AC%25E7%259A%2584%25E5%258C%25BA%25E5%2588%25AB.docx%22%3B%20filename%2A%3Dutf-8%27%27Win10%25E7%25B3%25BB%25E7%25BB%259F%25E7%2589%2588%25E6%259C%25AC%25E7%259A%2584%25E5%258C%25BA%25E5%2588%25AB.docx&responseContentType=application%2Foctet-stream&responseCacheControl=no-cache&authorization=bce-auth-v1%2Ffa1126e91489401fa7cc85045ce7179e%2F2019-07-23T02%3A18%3A51Z%2F3000%2Fhost%2Fb5d080bc2853aa3abdf707d4c0b934dcbeb4d9a2031481995e2268f2286900de&token=eyJ0eXAiOiJKSVQiLCJ2ZXIiOiIxLjAiLCJhbGciOiJIUzI1NiIsImV4cCI6MTU2Mzg1MTMzMSwidXJpIjp0cnVlLCJwYXJhbXMiOlsicmVzcG9uc2VDb250ZW50RGlzcG9zaXRpb24iLCJyZXNwb25zZUNvbnRlbnRUeXBlIiwicmVzcG9uc2VDYWNoZUNvbnRyb2wiXX0%3D.lm9aUzfbyaz%2BR7%2F89O%2FjrNET4eoGkOnyP0frlbezx6c%3D.1563851331\"\n",
    "\n",
    "ret = requests.get(url)\n",
    "# 在header中搜索文件名\n",
    "d = ret.headers['content-disposition']\n",
    "# print(d)\n",
    "fname = re.findall(\"filename=\\\"(.+?)\\\"\", d)[0]\n",
    "fname = unquote(fname)\n",
    "print(fname)\n",
    "# 将文件名中的特殊字符替换\n",
    "fname = re.sub(r'\\*|\\\\|:|\\?|\\\"|\\||\\<|\\>|\\/', '_', fname)\n",
    "fname = fname.replace(\"\\\"\", \"\")\n",
    "# 保存文件\n",
    "# with open(fname, \"wb\") as f:\n",
    "#     f.write(ret.content)\n"
   ]
  },
  {
   "cell_type": "code",
   "execution_count": 8,
   "metadata": {},
   "outputs": [
    {
     "name": "stdout",
     "output_type": "stream",
     "text": [
      "{1: 50, 2: 67, 3: 94, 4: 50, 5: 74, 6: 82, 7: 87, 8: 64, 9: 79}\n{3: 94}\n"
     ]
    }
   ],
   "source": [
    "# 对字典中的值进行排序\n",
    "\n",
    "\n"
   ]
  },
  {
   "cell_type": "code",
   "execution_count": null,
   "metadata": {},
   "outputs": [],
   "source": [
    "# sort 自定义排序\n",
    "#!/usr/bin/env python\n",
    "from functools import cmp_to_key\n",
    "\n",
    "\n",
    "def sort_str_int(x, y):\n",
    "    if type(x) == type(y):\n",
    "        return x>y\n",
    "    elif type(x) == int:\n",
    "        return -1\n",
    "    else:\n",
    "        return 1\n",
    "\n",
    "a = [\"a\", 1, \"b\"]\n",
    "b = a.sort(key=cmp_to_key(sort_str_int))\n",
    "print(a)\n"
   ]
  },
  {
   "cell_type": "code",
   "execution_count": 15,
   "outputs": [
    {
     "name": "stdout",
     "text": [
      "1\n"
     ],
     "output_type": "stream"
    }
   ],
   "source": [
    "import argparse\n",
    "\n",
    "parser = argparse.ArgumentParser()\n",
    "# type指定参数类型\n",
    "# choices指定参数可选值\n",
    "# action=\"store_true\" 不用指定参数的值，是False或者True\n",
    "parser.add_argument(\n",
    "    \"-v\",\n",
    "    \"--verbosity\",\n",
    "    type=int,\n",
    "    choices=[0, 1, 2],\n",
    "    default=1,\n",
    "    help=\"increase output verbosity\")\n",
    "\n",
    "# 互斥参数，只能多个只能出现一个\n",
    "group = parser.add_mutually_exclusive_group()\n",
    "group.add_argument(\"-a\", \"--aa\", action=\"store_true\")\n",
    "group.add_argument(\"-b\", \"--bb\", action=\"store_true\")\n",
    "\n",
    "#测试参数\n",
    "args = parser.parse_args([\"-v\", \"1\", \"-a\"])\n",
    "print(args.verbosity)\n",
    "\n",
    "\n",
    "\n",
    "\n",
    "\n"
   ],
   "metadata": {
    "collapsed": false,
    "pycharm": {
     "name": "#%%\n",
     "is_executing": false
    }
   }
  }
 ],
 "metadata": {
  "kernelspec": {
   "name": "python3",
   "language": "python",
   "display_name": "Python 3"
  },
  "language_info": {
   "codemirror_mode": {
    "name": "ipython",
    "version": 2
   },
   "file_extension": ".py",
   "mimetype": "text/x-python",
   "name": "python",
   "nbconvert_exporter": "python",
   "pygments_lexer": "ipython2",
   "version": "2.7.6"
  },
  "pycharm": {
   "stem_cell": {
    "cell_type": "raw",
    "source": [],
    "metadata": {
     "collapsed": false
    }
   }
  }
 },
 "nbformat": 4,
 "nbformat_minor": 0
}