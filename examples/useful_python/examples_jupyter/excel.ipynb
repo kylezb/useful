{
 "cells": [
  {
   "cell_type": "code",
   "execution_count": 1,
   "metadata": {
    "collapsed": false
   },
   "outputs": [
    {
     "name": "stdout",
     "output_type": "stream",
     "text": [
      "ok\n"
     ]
    }
   ],
   "source": [
    "import xlsxwriter\n",
    "import xlrd\n",
    "# 使用xlsxwriter进行文件的写入 xlrd进行文件的去读"
   ]
  },
  {
   "cell_type": "code",
   "execution_count": 4,
   "metadata": {},
   "outputs": [],
   "source": [
    "import xlsxwriter\n",
    "# 创建一个新的xlsx 并添加一个表格\n",
    "workbook = xlsxwriter.Workbook('./examples_jupyter/docs/temp.xlsx')\n",
    "worksheet = workbook.add_worksheet(name='temp')\n",
    "# 设置表格的大小\n",
    "worksheet.set_column(0, 3, 30)\n",
    "\n",
    "\n",
    "# 写入数据，注意通过返回值判断是否成功，进行失败处理,经过测试写入100w行多的时候会报错，这时候最后新添加个sheet\n",
    "# 第一个参数是行 第二个参数是列\n",
    "worksheet.write(2, 2, 'i am data')\n",
    "\n",
    "\n",
    "\n",
    "# 还可以插入图片 从未使用过\n",
    "# worksheet.insert_image('B5', 'logo.png')\n",
    "\n",
    "\n",
    "# 需要运行close后文件才会写入磁盘\n",
    "workbook.close()\n"
   ]
  },
  {
   "cell_type": "code",
   "execution_count": 18,
   "metadata": {},
   "outputs": [
    {
     "name": "stdout",
     "output_type": "stream",
     "text": [
      "3\n['Sheet1', 'Sheet2', 'Sheet3']\nSheet1 1 2\n[text:'我叫***', text:'我要找工作 接私活']\n[text:'我要找工作 接私活']\ntext:'我要找工作 接私活'\n"
     ]
    }
   ],
   "source": [
    "import xlrd\n",
    "book = xlrd.open_workbook(\"./examples_jupyter/docs/demo.xlsx\")\n",
    "# 获取sheet的个数\n",
    "print(book.nsheets) \n",
    "# 获取sheet的名字\n",
    "print(book.sheet_names())\n",
    "\n",
    "# 获取sh实列\n",
    "sh = book.sheet_by_index(0)\n",
    "# 获取当前sheet的名字 行数 和列数\n",
    "print(sh.name, sh.nrows, sh.ncols)\n",
    "# 获取行类容\n",
    "print(sh.row(0))\n",
    "# 获取列类容\n",
    "print(sh.col(1))\n",
    "# 获取具体单元格类容\n",
    "print(sh.cell(0, 1))\n",
    "\n",
    "\n"
   ]
  },
  {
   "cell_type": "code",
   "execution_count": null,
   "metadata": {},
   "outputs": [],
   "source": []
  }
 ],
 "metadata": {
  "kernelspec": {
   "display_name": "Python 2",
   "language": "python",
   "name": "python2"
  },
  "language_info": {
   "codemirror_mode": {
    "name": "ipython",
    "version": 2
   },
   "file_extension": ".py",
   "mimetype": "text/x-python",
   "name": "python",
   "nbconvert_exporter": "python",
   "pygments_lexer": "ipython2",
   "version": "2.7.6"
  }
 },
 "nbformat": 4,
 "nbformat_minor": 0
}
