{
 "cells": [
  {
   "cell_type": "code",
   "execution_count": 7,
   "metadata": {
    "collapsed": true
   },
   "outputs": [],
   "source": [
    "\"\"\"\n",
    "1. 函数装饰。\n",
    "    1. 不带参数装饰器，最外层直接传入需要装饰的函数，第一层闭包传入函数参数，返回第一层闭包函数。只有一层闭包。\n",
    "    2. 带参数装饰，最外层传入装饰器的参数，第一层闭包传入函数，第二层闭包传入函数参数，有2层闭包，返回第一层闭包\n",
    "    \n",
    "    \n",
    "2. 类装饰器。\n",
    "    必须实现__call__ 和 __init__两个内置函数\n",
    "    1. 不带参数，__init__接收装饰函数，__call__实现装饰逻辑\n",
    "    2. 带参数，__init__接收传入参数，__call__接收被装饰函数，相当于__call__中有一个闭包。\n",
    "\n",
    "\n",
    "3. 装饰类的装饰器。\n",
    "\n",
    "\"\"\"\n",
    "\n",
    "\n",
    "\n"
   ]
  },
  {
   "cell_type": "code",
   "execution_count": 9,
   "metadata": {},
   "outputs": [
    {
     "name": "stdout",
     "output_type": "stream",
     "text": [
      "time = 2.0005910396575928\n10\n"
     ]
    }
   ],
   "source": [
    "# 1.1 不带参数装饰器\n",
    "import time\n",
    "def timer(func):\n",
    "    def wrapper(*args, **kwargs):\n",
    "        t1 = time.time()\n",
    "        ret = func(*args, **kwargs)\n",
    "        t2 = time.time()\n",
    "        print(\"time = %s\"%(t2-t1))\n",
    "        return ret\n",
    "        \n",
    "    return wrapper\n",
    "        \n",
    "@timer       \n",
    "def wait_sleep(sleep_time):\n",
    "    time.sleep(sleep_time)\n",
    "    return 10\n",
    "\n",
    "print(wait_sleep(2))\n",
    "    \n"
   ]
  },
  {
   "cell_type": "code",
   "execution_count": 8,
   "metadata": {},
   "outputs": [
    {
     "name": "stdout",
     "output_type": "stream",
     "text": [
      "***下雨***\n***下雨***\n等待执行开始\n"
     ]
    },
    {
     "name": "stdout",
     "output_type": "stream",
     "text": [
      "等待执行结束\ntime = 2.000300884246826\n"
     ]
    }
   ],
   "source": [
    "# 1.2 带参数装饰器\n",
    "import time\n",
    "def timer(weather):\n",
    "    \n",
    "    def wrapper(func):\n",
    "        print(\"***\"+weather+\"***\")\n",
    "        def deco(*args, **kwargs):\n",
    "            print(\"***\"+weather+\"***\")\n",
    "            t1 = time.time()\n",
    "            ret = func(*args, **kwargs)\n",
    "            t2 = time.time()\n",
    "            print(\"time = %s\"%(t2-t1))\n",
    "            return ret\n",
    "        return deco\n",
    "        \n",
    "    return wrapper\n",
    "        \n",
    "@timer(\"下雨\")   \n",
    "def wait_sleep(sleep_time):\n",
    "    print(\"等待执行开始\")\n",
    "    time.sleep(sleep_time)\n",
    "    print(\"等待执行结束\")\n",
    "    \n",
    "wait_sleep(2)\n",
    "    "
   ]
  },
  {
   "cell_type": "code",
   "execution_count": 14,
   "metadata": {},
   "outputs": [
    {
     "name": "stdout",
     "output_type": "stream",
     "text": [
      "当前需要执行的函数是wait_sleep\n等待执行开始\n"
     ]
    },
    {
     "name": "stdout",
     "output_type": "stream",
     "text": [
      "等待执行结束\ntime = 2.0016071796417236\n"
     ]
    }
   ],
   "source": [
    "# 2.1 不带参数类装饰器\n",
    "\n",
    "class Timer(object):\n",
    "    def __init__(self, func):\n",
    "        self.func = func\n",
    "        \n",
    "    def __call__(self, *args, **kwargs):\n",
    "        print(\"当前需要执行的函数是{0}\".format(self.func.__name__))\n",
    "        t1 = time.time()\n",
    "        ret = self.func(*args, **kwargs)\n",
    "        t2 = time.time()\n",
    "        print(\"time = %s\"%(t2-t1))\n",
    "        return ret\n",
    "\n",
    "@Timer\n",
    "def wait_sleep(sleep_time):\n",
    "    print(\"等待执行开始\")\n",
    "    time.sleep(sleep_time)\n",
    "    print(\"等待执行结束\")\n",
    "    \n",
    "wait_sleep(2)\n",
    "    \n",
    "\n"
   ]
  },
  {
   "cell_type": "code",
   "execution_count": 20,
   "metadata": {},
   "outputs": [
    {
     "name": "stdout",
     "output_type": "stream",
     "text": [
      "***下雨***\n等待执行开始\n"
     ]
    },
    {
     "name": "stdout",
     "output_type": "stream",
     "text": [
      "等待执行结束\ntime = 2.0007846355438232\n"
     ]
    }
   ],
   "source": [
    "\n",
    "\n",
    "# 2.2 带参数类装饰器\n",
    "\n",
    "class Timer(object):\n",
    "    def __init__(self, weather):\n",
    "        self.weather = weather\n",
    "        \n",
    "    def __call__(self, func):\n",
    "        \n",
    "        def wrapper(*args, **kwargs):\n",
    "            print(\"***\"+self.weather+\"***\")\n",
    "            t1 = time.time()\n",
    "            ret = func(*args, **kwargs)\n",
    "            t2 = time.time()\n",
    "            print(\"time = %s\"%(t2-t1))\n",
    "            return ret\n",
    "        return wrapper\n",
    "\n",
    "@Timer(\"下雨\")\n",
    "def wait_sleep(sleep_time):\n",
    "    print(\"等待执行开始\")\n",
    "    time.sleep(sleep_time)\n",
    "    print(\"等待执行结束\")\n",
    "    \n",
    "wait_sleep(2)\n",
    "    "
   ]
  },
  {
   "cell_type": "code",
   "execution_count": 28,
   "metadata": {},
   "outputs": [],
   "source": [
    "# 3 装饰类的装饰器\n",
    "\n",
    "instances = {}\n",
    "\n",
    "def singleton(cls):\n",
    "    def get_instance(*args, **kwargs):\n",
    "        cls_name = cls.__name__\n",
    "        global instances\n",
    "        if cls_name not in instance:\n",
    "            print(\"1\")\n",
    "            instance = cls(*args, **kwargs)\n",
    "            instances[cls_name] = instance\n",
    "        return instances[cls_name]\n",
    "    return get_instance\n",
    "\n",
    "@singleton\n",
    "class User:\n",
    "    def __init__(self, name):\n",
    "        print(\"2\")\n",
    "        self.name = name\n",
    "        \n",
    "\n",
    "a = User()\n",
    "\n",
    "\n"
   ]
  },
  {
   "cell_type": "code",
   "execution_count": null,
   "metadata": {},
   "outputs": [],
   "source": []
  }
 ],
 "metadata": {
  "kernelspec": {
   "display_name": "Python 2",
   "language": "python",
   "name": "python2"
  },
  "language_info": {
   "codemirror_mode": {
    "name": "ipython",
    "version": 2
   },
   "file_extension": ".py",
   "mimetype": "text/x-python",
   "name": "python",
   "nbconvert_exporter": "python",
   "pygments_lexer": "ipython2",
   "version": "2.7.6"
  }
 },
 "nbformat": 4,
 "nbformat_minor": 0
}
